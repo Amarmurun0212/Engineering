{
  "nbformat": 4,
  "nbformat_minor": 0,
  "metadata": {
    "colab": {
      "provenance": [],
      "authorship_tag": "ABX9TyN/PcAaS+05mU58GdbyHzJ0",
      "include_colab_link": true
    },
    "kernelspec": {
      "name": "python3",
      "display_name": "Python 3"
    },
    "language_info": {
      "name": "python"
    }
  },
  "cells": [
    {
      "cell_type": "markdown",
      "metadata": {
        "id": "view-in-github",
        "colab_type": "text"
      },
      "source": [
        "<a href=\"https://colab.research.google.com/github/Amarmurun0212/Engineering/blob/main/VesIRost.ipynb\" target=\"_parent\"><img src=\"https://colab.research.google.com/assets/colab-badge.svg\" alt=\"Open In Colab\"/></a>"
      ]
    },
    {
      "cell_type": "code",
      "execution_count": 21,
      "metadata": {
        "colab": {
          "base_uri": "https://localhost:8080/",
          "height": 1000
        },
        "id": "INtifyiGkwg3",
        "outputId": "3a1acf0f-7903-486b-f8c9-940266d4ef4d"
      },
      "outputs": [
        {
          "output_type": "stream",
          "name": "stdout",
          "text": [
            "total dataset size:  20\n",
            "all dataset header: ['Height', 'Weight']\n",
            "prepare_dataset X :     Height\n",
            "0      189\n",
            "1      177\n",
            "2      179\n",
            "3      183\n",
            "4      180\n",
            "5      185\n",
            "6      178\n",
            "7      186\n",
            "8      176\n",
            "9      185\n",
            "10     184\n",
            "11     180\n",
            "12     180\n",
            "13     188\n",
            "14     183\n",
            "15     195\n",
            "16     194\n",
            "17     188\n",
            "18     182\n",
            "19     195\n",
            "prepare_dataset Y :     Weight\n",
            "0       90\n",
            "1       80\n",
            "2       73\n",
            "3       73\n",
            "4       85\n",
            "5       83\n",
            "6       75\n",
            "7       75\n",
            "8       77\n",
            "9       73\n",
            "10      76\n",
            "11      74\n",
            "12      68\n",
            "13      81\n",
            "14      79\n",
            "15      88\n",
            "16      75\n",
            "17      89\n",
            "18      85\n",
            "19      80\n",
            "Coefficient:  [[0.53737374]]\n",
            "Intercept: [-19.01111111]\n",
            "Mean squared error:  40.63247321701867\n"
          ]
        },
        {
          "output_type": "display_data",
          "data": {
            "text/plain": [
              "<Figure size 640x480 with 1 Axes>"
            ],
            "image/png": "[encoded data removed]"
          },
          "metadata": {}
        },
        {
          "output_type": "stream",
          "name": "stdout",
          "text": [
            "inference_model : [[88.46363636]]\n"
          ]
        },
        {
          "output_type": "stream",
          "name": "stderr",
          "text": [
            "/usr/local/lib/python3.10/dist-packages/sklearn/base.py:493: UserWarning: X does not have valid feature names, but LinearRegression was fitted with feature names\n",
            "  warnings.warn(\n"
          ]
        }
      ],
      "source": [
        "from sklearn import datasets, linear_model\n",
        "from sklearn.metrics import mean_squared_error, r2_score\n",
        "from sklearn.model_selection import train_test_split\n",
        "\n",
        "import pandas as pd\n",
        "import matplotlib.pyplot as plt\n",
        "\n",
        "#Machine learning 1: Prepare the data\n",
        "def prepare_data():\n",
        "  dataset_path = \"/content/Reg.xlsx\"\n",
        "  df = pd.read_excel(dataset_path)\n",
        "  print(\"total dataset size: \",len(df))\n",
        "  headers = list(df)\n",
        "  print('all dataset header:',headers)\n",
        "  X = df[['Height']]\n",
        "  Y = df[['Weight']]\n",
        "  print('prepare_dataset X :', X)\n",
        "  print('prepare_dataset Y :', Y)\n",
        "  # Data gaa randomoor surgah data, shalgah data gej 2 angilaad 0.2 huwiar ni awna\n",
        "  X_train,X_test, Y_train, Y_test = train_test_split(X,Y, test_size=0.2, random_state=1,)\n",
        "  return X_train, X_test,Y_train, Y_test\n",
        "\n",
        "#Machine learning 2: Build & train the model\n",
        "def build_model(X_train, Y_train):\n",
        "  # Build model\n",
        "  model = linear_model.LinearRegression()\n",
        "\n",
        "  #Train model\n",
        "  model.fit(X_train, Y_train)\n",
        "\n",
        "  w1 = model.coef_\n",
        "  W0 = model.intercept_\n",
        "  print(\"Coefficient: \",w1)\n",
        "  print(\"Intercept:\",W0)\n",
        "  return model\n",
        "\n",
        "\n",
        "#Machine learning 3: Eval the model, define error function\n",
        "def eval_model(model,X_test,Y_test):\n",
        "  y_pred = model.predict(X_test)\n",
        "\n",
        "  # The mean squared error\n",
        "  mse = mean_squared_error(Y_test,y_pred)\n",
        "  print(\"Mean squared error: \", mse)\n",
        "\n",
        "  return y_pred\n",
        "\n",
        "def visulize_eval (X_test,Y_test,y_pred):\n",
        "  dataset_path = \"/content/Reg.xlsx\"\n",
        "  df = pd.read_excel(dataset_path)\n",
        "  X = df[['Height']]\n",
        "  Y = df[['Weight']]\n",
        "  plt.scatter(X,Y,color=\"black\")\n",
        "  plt.plot(X_test,y_pred,color=\"blue\",linewidth=3)\n",
        "  plt.title(\"Линейная регрессия Вес и\")\n",
        "  plt.show()\n",
        "\n",
        "def inference_model(data):\n",
        "  y_pred = model.predict([data])\n",
        "  print('inference_model :',y_pred)\n",
        "  return y_pred\n",
        "\n",
        "#step 1\n",
        "X_train, X_test,Y_train,Y_test = prepare_data()\n",
        "\n",
        "#step 2\n",
        "model = build_model(X_train, Y_train)\n",
        "\n",
        "#step 3\n",
        "y_pred = eval_model(model,X_test,Y_test)\n",
        "\n",
        "#step 4\n",
        "visulize_eval(X_test,Y_test,y_pred)\n",
        "\n",
        "#step 5\n",
        "x=[200]\n",
        "y_pred = inference_model(x)"
      ]
    },
    {
      "cell_type": "code",
      "source": [
        "x=[210]\n",
        "y_pred = inference_model(x)"
      ],
      "metadata": {
        "colab": {
          "base_uri": "https://localhost:8080/"
        },
        "id": "e2W9xoA6qBWn",
        "outputId": "f3042cb3-d869-4bf6-ad45-dbae249b4ca1"
      },
      "execution_count": 22,
      "outputs": [
        {
          "output_type": "stream",
          "name": "stdout",
          "text": [
            "inference_model : [[93.83737374]]\n"
          ]
        },
        {
          "output_type": "stream",
          "name": "stderr",
          "text": [
            "/usr/local/lib/python3.10/dist-packages/sklearn/base.py:493: UserWarning: X does not have valid feature names, but LinearRegression was fitted with feature names\n",
            "  warnings.warn(\n"
          ]
        }
      ]
    }
  ]
}