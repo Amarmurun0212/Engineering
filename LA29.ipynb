{
  "nbformat": 4,
  "nbformat_minor": 0,
  "metadata": {
    "colab": {
      "provenance": [],
      "authorship_tag": "ABX9TyM/3eo+j4d2z37emrZF8nAg",
      "include_colab_link": true
    },
    "kernelspec": {
      "name": "python3",
      "display_name": "Python 3"
    },
    "language_info": {
      "name": "python"
    }
  },
  "cells": [
    {
      "cell_type": "markdown",
      "metadata": {
        "id": "view-in-github",
        "colab_type": "text"
      },
      "source": [
        "<a href=\"https://colab.research.google.com/github/Amarmurun0212/Engineering/blob/main/LA29.ipynb\" target=\"_parent\"><img src=\"https://colab.research.google.com/assets/colab-badge.svg\" alt=\"Open In Colab\"/></a>"
      ]
    },
    {
      "cell_type": "markdown",
      "source": [
        "Какую массу имеет метан при обьеме 64м3 при атмасферном давлении и T=0"
      ],
      "metadata": {
        "id": "Q1Jl6Fuotcgp"
      }
    },
    {
      "cell_type": "code",
      "source": [
        "pip install CoolProp"
      ],
      "metadata": {
        "colab": {
          "base_uri": "https://localhost:8080/"
        },
        "id": "e_5N59nQ0lmf",
        "outputId": "b1b177c7-94d4-4fa4-a914-1b841d0b51a7"
      },
      "execution_count": 1,
      "outputs": [
        {
          "output_type": "stream",
          "name": "stdout",
          "text": [
            "Looking in indexes: https://pypi.org/simple, https://us-python.pkg.dev/colab-wheels/public/simple/\n",
            "Collecting CoolProp\n",
            "  Downloading CoolProp-6.4.3.post1-cp310-cp310-manylinux_2_17_x86_64.manylinux2014_x86_64.whl (6.1 MB)\n",
            "\u001b[2K     \u001b[90m━━━━━━━━━━━━━━━━━━━━━━━━━━━━━━━━━━━━━━━━\u001b[0m \u001b[32m6.1/6.1 MB\u001b[0m \u001b[31m24.3 MB/s\u001b[0m eta \u001b[36m0:00:00\u001b[0m\n",
            "\u001b[?25hInstalling collected packages: CoolProp\n",
            "Successfully installed CoolProp-6.4.3.post1\n"
          ]
        }
      ]
    },
    {
      "cell_type": "code",
      "source": [
        "#Дано\n",
        "T=273.15  #температура в К\n",
        "P=101325  #давление\n",
        "R=8.314   #Универсальная газовая постоянная\n",
        "V=64      #объем м3\n",
        "Fluid_name= 'CH4'\n",
        "# Решение 1\n",
        "\n",
        "# Решение 2\n",
        "\n",
        "# Графика \n",
        "\n"
      ],
      "metadata": {
        "id": "qE3OBi5RwqAL"
      },
      "execution_count": null,
      "outputs": []
    },
    {
      "cell_type": "markdown",
      "source": [],
      "metadata": {
        "id": "50RRnjNhzQP9"
      }
    }
  ]
}