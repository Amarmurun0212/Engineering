{
  "nbformat": 4,
  "nbformat_minor": 0,
  "metadata": {
    "colab": {
      "provenance": [],
      "authorship_tag": "ABX9TyOp62zedUdcj4jvGtir2cbB",
      "include_colab_link": true
    },
    "kernelspec": {
      "name": "python3",
      "display_name": "Python 3"
    },
    "language_info": {
      "name": "python"
    }
  },
  "cells": [
    {
      "cell_type": "markdown",
      "metadata": {
        "id": "view-in-github",
        "colab_type": "text"
      },
      "source": [
        "<a href=\"https://colab.research.google.com/github/Amarmurun0212/Engineering/blob/main/%D0%A0%D0%B0%D1%81%D0%BF%D0%BE%D0%B7%D0%BD%D0%B0%D0%BD%D0%B8%D0%B5_%D1%82%D0%B5%D0%BA%D1%81%D1%82.ipynb\" target=\"_parent\"><img src=\"https://colab.research.google.com/assets/colab-badge.svg\" alt=\"Open In Colab\"/></a>"
      ]
    },
    {
      "cell_type": "code",
      "execution_count": null,
      "metadata": {
        "colab": {
          "base_uri": "https://localhost:8080/"
        },
        "id": "aGLFntmh-_Xd",
        "outputId": "976bd6f8-4fc6-4355-adc9-ed0d8c60cc51"
      },
      "outputs": [
        {
          "output_type": "stream",
          "name": "stdout",
          "text": [
            "Collecting SpeechRecognition\n",
            "  Downloading SpeechRecognition-3.14.1-py3-none-any.whl.metadata (31 kB)\n",
            "Collecting pydub\n",
            "  Downloading pydub-0.25.1-py2.py3-none-any.whl.metadata (1.4 kB)\n",
            "Requirement already satisfied: typing-extensions in /usr/local/lib/python3.11/dist-packages (from SpeechRecognition) (4.12.2)\n",
            "Downloading SpeechRecognition-3.14.1-py3-none-any.whl (32.9 MB)\n",
            "\u001b[2K   \u001b[90m━━━━━━━━━━━━━━━━━━━━━━━━━━━━━━━━━━━━━━━━\u001b[0m \u001b[32m32.9/32.9 MB\u001b[0m \u001b[31m17.1 MB/s\u001b[0m eta \u001b[36m0:00:00\u001b[0m\n",
            "\u001b[?25hDownloading pydub-0.25.1-py2.py3-none-any.whl (32 kB)\n",
            "Installing collected packages: pydub, SpeechRecognition\n",
            "Successfully installed SpeechRecognition-3.14.1 pydub-0.25.1\n"
          ]
        }
      ],
      "source": [
        "pip install SpeechRecognition pydub"
      ]
    },
    {
      "cell_type": "code",
      "source": [
        "pip install vosk"
      ],
      "metadata": {
        "colab": {
          "base_uri": "https://localhost:8080/"
        },
        "id": "SttRCNVoAGgi",
        "outputId": "0a908494-084f-4a20-db95-f0355474acf4"
      },
      "execution_count": null,
      "outputs": [
        {
          "output_type": "stream",
          "name": "stdout",
          "text": [
            "Collecting vosk\n",
            "  Downloading vosk-0.3.45-py3-none-manylinux_2_12_x86_64.manylinux2010_x86_64.whl.metadata (1.8 kB)\n",
            "Requirement already satisfied: cffi>=1.0 in /usr/local/lib/python3.11/dist-packages (from vosk) (1.17.1)\n",
            "Requirement already satisfied: requests in /usr/local/lib/python3.11/dist-packages (from vosk) (2.32.3)\n",
            "Requirement already satisfied: tqdm in /usr/local/lib/python3.11/dist-packages (from vosk) (4.67.1)\n",
            "Collecting srt (from vosk)\n",
            "  Downloading srt-3.5.3.tar.gz (28 kB)\n",
            "  Preparing metadata (setup.py) ... \u001b[?25l\u001b[?25hdone\n",
            "Requirement already satisfied: websockets in /usr/local/lib/python3.11/dist-packages (from vosk) (14.2)\n",
            "Requirement already satisfied: pycparser in /usr/local/lib/python3.11/dist-packages (from cffi>=1.0->vosk) (2.22)\n",
            "Requirement already satisfied: charset-normalizer<4,>=2 in /usr/local/lib/python3.11/dist-packages (from requests->vosk) (3.4.1)\n",
            "Requirement already satisfied: idna<4,>=2.5 in /usr/local/lib/python3.11/dist-packages (from requests->vosk) (3.10)\n",
            "Requirement already satisfied: urllib3<3,>=1.21.1 in /usr/local/lib/python3.11/dist-packages (from requests->vosk) (2.3.0)\n",
            "Requirement already satisfied: certifi>=2017.4.17 in /usr/local/lib/python3.11/dist-packages (from requests->vosk) (2025.1.31)\n",
            "Downloading vosk-0.3.45-py3-none-manylinux_2_12_x86_64.manylinux2010_x86_64.whl (7.2 MB)\n",
            "\u001b[2K   \u001b[90m━━━━━━━━━━━━━━━━━━━━━━━━━━━━━━━━━━━━━━━━\u001b[0m \u001b[32m7.2/7.2 MB\u001b[0m \u001b[31m62.3 MB/s\u001b[0m eta \u001b[36m0:00:00\u001b[0m\n",
            "\u001b[?25hBuilding wheels for collected packages: srt\n",
            "  Building wheel for srt (setup.py) ... \u001b[?25l\u001b[?25hdone\n",
            "  Created wheel for srt: filename=srt-3.5.3-py3-none-any.whl size=22428 sha256=ace74f9917d19c24e25c1ea017374a1edc5d15a04a152d1b7547b3ce4a511262\n",
            "  Stored in directory: /root/.cache/pip/wheels/1f/43/f1/23ee9119497fcb57d9f7046fbf34c6d9027c46a1fa7824cf08\n",
            "Successfully built srt\n",
            "Installing collected packages: srt, vosk\n",
            "Successfully installed srt-3.5.3 vosk-0.3.45\n"
          ]
        }
      ]
    },
    {
      "cell_type": "code",
      "source": [
        "import wave\n",
        "import json\n",
        "from vosk import Model, KaldiRecognizer\n",
        "from pydub import AudioSegment\n",
        "\n",
        "# Конвертация в WAV\n",
        "audio_path = \"New Recording 61.m4a\"\n",
        "wav_path = \"output.wav\"\n",
        "audio = AudioSegment.from_file(audio_path, format=\"m4a\")\n",
        "audio = audio.set_channels(1).set_frame_rate(16000)  # Vosk требует моно 16kHz\n",
        "audio.export(wav_path, format=\"wav\")\n",
        "\n",
        "# Загружаем модель (скачивается один раз)\n",
        "model = Model(lang=\"ru\")\n",
        "\n",
        "# Открываем WAV-файл\n",
        "wf = wave.open(wav_path, \"rb\")\n",
        "recognizer = KaldiRecognizer(model, wf.getframerate())\n",
        "\n",
        "# Читаем и распознаем\n",
        "text = \"\"\n",
        "while True:\n",
        "    data = wf.readframes(4000)\n",
        "    if len(data) == 0:\n",
        "        break\n",
        "    if recognizer.AcceptWaveform(data):\n",
        "        result = json.loads(recognizer.Result())\n",
        "        text += result.get(\"text\", \"\") + \" \"\n",
        "\n",
        "# Выводим результат\n",
        "print(\"Распознанный текст:\", text.strip())\n"
      ],
      "metadata": {
        "id": "JfPJci-1_ORZ"
      },
      "execution_count": null,
      "outputs": []
    },
    {
      "cell_type": "code",
      "source": [
        "import wave\n",
        "import json\n",
        "from vosk import Model, KaldiRecognizer\n",
        "from pydub import AudioSegment\n",
        "\n",
        "# Конвертация в WAV\n",
        "audio_path = \"New Recording 13.m4a\"\n",
        "wav_path = \"output.wav\"\n",
        "audio = AudioSegment.from_file(audio_path, format=\"m4a\")\n",
        "audio = audio.set_channels(1).set_frame_rate(16000)  # Vosk требует моно 16kHz\n",
        "audio.export(wav_path, format=\"wav\")\n",
        "\n",
        "# Загружаем модель (скачивается один раз)\n",
        "model = Model(lang=\"mn\")\n",
        "\n",
        "# Открываем WAV-файл\n",
        "wf = wave.open(wav_path, \"rb\")\n",
        "recognizer = KaldiRecognizer(model, wf.getframerate())\n",
        "\n",
        "# Читаем и распознаем\n",
        "text = \"\"\n",
        "while True:\n",
        "    data = wf.readframes(4000)\n",
        "    if len(data) == 0:\n",
        "        break\n",
        "    if recognizer.AcceptWaveform(data):\n",
        "        result = json.loads(recognizer.Result())\n",
        "        text += result.get(\"text\", \"\") + \" \"\n",
        "\n",
        "# Выводим результат\n",
        "print(\"Распознанный текст:\", text.strip())"
      ],
      "metadata": {
        "colab": {
          "base_uri": "https://localhost:8080/",
          "height": 141
        },
        "id": "QAOiNUTsDnHB",
        "outputId": "159ec942-8d41-44c2-bb54-918d76e1afae"
      },
      "execution_count": null,
      "outputs": [
        {
          "output_type": "stream",
          "name": "stdout",
          "text": [
            "lang mn does not exist\n"
          ]
        },
        {
          "output_type": "error",
          "ename": "SystemExit",
          "evalue": "1",
          "traceback": [
            "An exception has occurred, use %tb to see the full traceback.\n",
            "\u001b[0;31mSystemExit\u001b[0m\u001b[0;31m:\u001b[0m 1\n"
          ]
        },
        {
          "output_type": "stream",
          "name": "stderr",
          "text": [
            "/usr/local/lib/python3.11/dist-packages/IPython/core/interactiveshell.py:3561: UserWarning: To exit: use 'exit', 'quit', or Ctrl-D.\n",
            "  warn(\"To exit: use 'exit', 'quit', or Ctrl-D.\", stacklevel=1)\n"
          ]
        }
      ]
    },
    {
      "cell_type": "code",
      "source": [
        "import wave\n",
        "import json\n",
        "from vosk import Model, KaldiRecognizer\n",
        "from pydub import AudioSegment\n",
        "\n",
        "# Конвертация в WAV\n",
        "audio_path = \"New Recording 66.m4a\"\n",
        "wav_path = \"output.wav\"\n",
        "audio = AudioSegment.from_file(audio_path, format=\"m4a\")\n",
        "audio = audio.set_channels(1).set_frame_rate(16000)  # Vosk требует моно 16kHz\n",
        "audio.export(wav_path, format=\"wav\")\n",
        "\n",
        "# Загружаем модель (скачивается один раз)\n",
        "model = Model(lang=\"ru\")\n",
        "\n",
        "# Открываем WAV-файл\n",
        "wf = wave.open(wav_path, \"rb\")\n",
        "recognizer = KaldiRecognizer(model, wf.getframerate())\n",
        "\n",
        "# Читаем и распознаем\n",
        "text = \"\"\n",
        "while True:\n",
        "    data = wf.readframes(4000)\n",
        "    if len(data) == 0:\n",
        "        break\n",
        "    if recognizer.AcceptWaveform(data):\n",
        "        result = json.loads(recognizer.Result())\n",
        "        text += result.get(\"text\", \"\") + \" \"\n",
        "\n",
        "# Выводим результат\n",
        "print(\"Распознанный текст:\", text.strip())\n"
      ],
      "metadata": {
        "id": "Sn1xPLRwcbqs"
      },
      "execution_count": null,
      "outputs": []
    },
    {
      "cell_type": "code",
      "source": [],
      "metadata": {
        "id": "SPHLCopLcwS7"
      },
      "execution_count": null,
      "outputs": []
    }
  ]
}