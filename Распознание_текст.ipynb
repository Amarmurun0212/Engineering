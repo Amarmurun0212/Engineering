{
  "nbformat": 4,
  "nbformat_minor": 0,
  "metadata": {
    "colab": {
      "provenance": [],
      "authorship_tag": "ABX9TyNKbpv9lDwzMmJY5Sj0Qyqz",
      "include_colab_link": true
    },
    "kernelspec": {
      "name": "python3",
      "display_name": "Python 3"
    },
    "language_info": {
      "name": "python"
    }
  },
  "cells": [
    {
      "cell_type": "markdown",
      "metadata": {
        "id": "view-in-github",
        "colab_type": "text"
      },
      "source": [
        "<a href=\"https://colab.research.google.com/github/Amarmurun0212/Engineering/blob/main/%D0%A0%D0%B0%D1%81%D0%BF%D0%BE%D0%B7%D0%BD%D0%B0%D0%BD%D0%B8%D0%B5_%D1%82%D0%B5%D0%BA%D1%81%D1%82.ipynb\" target=\"_parent\"><img src=\"https://colab.research.google.com/assets/colab-badge.svg\" alt=\"Open In Colab\"/></a>"
      ]
    },
    {
      "cell_type": "code",
      "execution_count": null,
      "metadata": {
        "colab": {
          "base_uri": "https://localhost:8080/"
        },
        "id": "aGLFntmh-_Xd",
        "outputId": "7b48e036-1489-4838-b4be-32f59f75b96a"
      },
      "outputs": [
        {
          "output_type": "stream",
          "name": "stdout",
          "text": [
            "Requirement already satisfied: SpeechRecognition in /usr/local/lib/python3.11/dist-packages (3.14.2)\n",
            "Requirement already satisfied: pydub in /usr/local/lib/python3.11/dist-packages (0.25.1)\n",
            "Requirement already satisfied: typing-extensions in /usr/local/lib/python3.11/dist-packages (from SpeechRecognition) (4.13.1)\n"
          ]
        }
      ],
      "source": [
        "pip install SpeechRecognition pydub"
      ]
    },
    {
      "cell_type": "code",
      "source": [
        "pip install vosk"
      ],
      "metadata": {
        "colab": {
          "base_uri": "https://localhost:8080/"
        },
        "id": "SttRCNVoAGgi",
        "outputId": "43b8b56d-4c75-4853-8522-3f3ed773abc8"
      },
      "execution_count": null,
      "outputs": [
        {
          "output_type": "stream",
          "name": "stdout",
          "text": [
            "Collecting vosk\n",
            "  Downloading vosk-0.3.45-py3-none-manylinux_2_12_x86_64.manylinux2010_x86_64.whl.metadata (1.8 kB)\n",
            "Requirement already satisfied: cffi>=1.0 in /usr/local/lib/python3.11/dist-packages (from vosk) (1.17.1)\n",
            "Requirement already satisfied: requests in /usr/local/lib/python3.11/dist-packages (from vosk) (2.32.3)\n",
            "Requirement already satisfied: tqdm in /usr/local/lib/python3.11/dist-packages (from vosk) (4.67.1)\n",
            "Collecting srt (from vosk)\n",
            "  Downloading srt-3.5.3.tar.gz (28 kB)\n",
            "  Preparing metadata (setup.py) ... \u001b[?25l\u001b[?25hdone\n",
            "Requirement already satisfied: websockets in /usr/local/lib/python3.11/dist-packages (from vosk) (15.0.1)\n",
            "Requirement already satisfied: pycparser in /usr/local/lib/python3.11/dist-packages (from cffi>=1.0->vosk) (2.22)\n",
            "Requirement already satisfied: charset-normalizer<4,>=2 in /usr/local/lib/python3.11/dist-packages (from requests->vosk) (3.4.1)\n",
            "Requirement already satisfied: idna<4,>=2.5 in /usr/local/lib/python3.11/dist-packages (from requests->vosk) (3.10)\n",
            "Requirement already satisfied: urllib3<3,>=1.21.1 in /usr/local/lib/python3.11/dist-packages (from requests->vosk) (2.3.0)\n",
            "Requirement already satisfied: certifi>=2017.4.17 in /usr/local/lib/python3.11/dist-packages (from requests->vosk) (2025.1.31)\n",
            "Downloading vosk-0.3.45-py3-none-manylinux_2_12_x86_64.manylinux2010_x86_64.whl (7.2 MB)\n",
            "\u001b[2K   \u001b[90m━━━━━━━━━━━━━━━━━━━━━━━━━━━━━━━━━━━━━━━━\u001b[0m \u001b[32m7.2/7.2 MB\u001b[0m \u001b[31m54.5 MB/s\u001b[0m eta \u001b[36m0:00:00\u001b[0m\n",
            "\u001b[?25hBuilding wheels for collected packages: srt\n",
            "  Building wheel for srt (setup.py) ... \u001b[?25l\u001b[?25hdone\n",
            "  Created wheel for srt: filename=srt-3.5.3-py3-none-any.whl size=22427 sha256=b5e0fc0ce2eb8287c473df515dcefc449c8c31d456dcb54cddb7504ff4095a48\n",
            "  Stored in directory: /root/.cache/pip/wheels/1f/43/f1/23ee9119497fcb57d9f7046fbf34c6d9027c46a1fa7824cf08\n",
            "Successfully built srt\n",
            "Installing collected packages: srt, vosk\n",
            "Successfully installed srt-3.5.3 vosk-0.3.45\n"
          ]
        }
      ]
    },
    {
      "cell_type": "code",
      "source": [
        "import wave\n",
        "import json\n",
        "from vosk import Model, KaldiRecognizer\n",
        "from pydub import AudioSegment\n",
        "\n",
        "# Конвертация в WAV\n",
        "audio_path = \"Duubichleg.m4a\"\n",
        "wav_path = \"output.wav\"\n",
        "audio = AudioSegment.from_file(audio_path, format=\"m4a\")\n",
        "audio = audio.set_channels(1).set_frame_rate(16000)  # Vosk требует моно 16kHz\n",
        "audio.export(wav_path, format=\"wav\")\n",
        "\n",
        "# Загружаем модель (скачивается один раз)\n",
        "model = Model(lang=\"ru\")\n",
        "\n",
        "# Открываем WAV-файл\n",
        "wf = wave.open(wav_path, \"rb\")\n",
        "recognizer = KaldiRecognizer(model, wf.getframerate())\n",
        "\n",
        "# Читаем и распознаем\n",
        "text = \"\"\n",
        "while True:\n",
        "    data = wf.readframes(4000)\n",
        "    if len(data) == 0:\n",
        "        break\n",
        "    if recognizer.AcceptWaveform(data):\n",
        "        result = json.loads(recognizer.Result())\n",
        "        text += result.get(\"text\", \"\") + \" \"\n",
        "\n",
        "# Выводим результат\n",
        "print(\"Распознанный текст:\", text.strip())\n"
      ],
      "metadata": {
        "id": "Sn1xPLRwcbqs"
      },
      "execution_count": null,
      "outputs": []
    },
    {
      "cell_type": "code",
      "source": [
        "import wave\n",
        "import json\n",
        "from vosk import Model, KaldiRecognizer\n",
        "from pydub import AudioSegment\n",
        "\n",
        "# Конвертация в WAV\n",
        "audio_path = \"amka.ogg\"\n",
        "wav_path = \"output1.wav\"\n",
        "audio = AudioSegment.from_file(audio_path, format=\"m4a\")\n",
        "audio = audio.set_channels(1).set_frame_rate(16000)  # Vosk требует моно 16kHz\n",
        "audio.export(wav_path, format=\"wav\")\n",
        "\n",
        "# Загружаем модель (скачивается один раз)\n",
        "model = Model(lang=\"ru\")\n",
        "\n",
        "# Открываем WAV-файл\n",
        "wf = wave.open(wav_path, \"rb\")\n",
        "recognizer = KaldiRecognizer(model, wf.getframerate())\n",
        "\n",
        "# Читаем и распознаем\n",
        "text = \"\"\n",
        "while True:\n",
        "    data = wf.readframes(4000)\n",
        "    if len(data) == 0:\n",
        "        break\n",
        "    if recognizer.AcceptWaveform(data):\n",
        "        result = json.loads(recognizer.Result())\n",
        "        text += result.get(\"text\", \"\") + \" \"\n",
        "\n",
        "# Выводим результат\n",
        "print(\"Распознанный текст:\", text.strip())"
      ],
      "metadata": {
        "id": "SPHLCopLcwS7"
      },
      "execution_count": null,
      "outputs": []
    }
  ]
}